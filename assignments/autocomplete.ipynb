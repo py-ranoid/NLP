{
 "cells": [
  {
   "cell_type": "code",
   "execution_count": null,
   "metadata": {},
   "outputs": [],
   "source": [
    "# class MyCompleter(object):  # Custom completer\n",
    "\n",
    "    def __init__(self, options):\n",
    "        self.options = sorted(options)\n",
    "\n",
    "    def complete(self, text, k):\n",
    "        if text:  # cache matches (entries that start with entered text)\n",
    "            self.matches = [s for s in self.options \n",
    "                                if s and s.startswith(text)]\n",
    "        else:  # no text entered, all matches possible\n",
    "            self.matches = self.options[:]\n",
    "        if len(self.matches) > k:\n",
    "            self.matches = self.matches[:k]\n",
    "        return self.matches\n",
    "completer = MyCompleter([\"hello\", \"hi\", \"how\", \"goodbye\", \"great\"])\n",
    "# the output is sorted in lexicographical order\n",
    "# it could handle n-gram based input dictionary"
   ]
  },
  {
   "cell_type": "code",
   "execution_count": 2,
   "metadata": {},
   "outputs": [
    {
     "name": "stdout",
     "output_type": "stream",
     "text": [
      "['hello', 'hi']\n"
     ]
    }
   ],
   "source": [
    "print(completer.complete(\"h\",2))"
   ]
  },
  {
   "cell_type": "code",
   "execution_count": null,
   "metadata": {},
   "outputs": [],
   "source": []
  }
 ],
 "metadata": {
  "kernelspec": {
   "display_name": "Python 3",
   "language": "python",
   "name": "python3"
  },
  "language_info": {
   "codemirror_mode": {
    "name": "ipython",
    "version": 3
   },
   "file_extension": ".py",
   "mimetype": "text/x-python",
   "name": "python",
   "nbconvert_exporter": "python",
   "pygments_lexer": "ipython3",
   "version": "3.6.4"
  }
 },
 "nbformat": 4,
 "nbformat_minor": 2
}
