{
 "cells": [
  {
   "cell_type": "code",
   "execution_count": 92,
   "metadata": {},
   "outputs": [],
   "source": [
    "import pickle \n",
    "\n",
    "def atisfold(fold):\n",
    "    assert fold in range(5)\n",
    "    f = PREFIX + 'atis.fold'+str(fold)+'.pkl'\n",
    "    train_set, valid_set, test_set, dicts = pickle.load(open(f, 'rb'), encoding='bytes')\n",
    "    return train_set, valid_set, test_set, dicts"
   ]
  },
  {
   "cell_type": "code",
   "execution_count": 94,
   "metadata": {},
   "outputs": [],
   "source": [
    "PREFIX = 'dataset/'\n",
    "w2ne, w2la = {}, {}\n",
    "train, _, test, dic = atisfold(1)\n",
    "w2idx, ne2idx, labels2idx = dic[b'words2idx'], dic[b'tables2idx'], dic[b'labels2idx']"
   ]
  },
  {
   "cell_type": "code",
   "execution_count": 95,
   "metadata": {},
   "outputs": [
    {
     "name": "stdout",
     "output_type": "stream",
     "text": [
      "dict_keys([b'words2idx', b'labels2idx', b'tables2idx'])\n"
     ]
    }
   ],
   "source": [
    "print(dic.keys())"
   ]
  },
  {
   "cell_type": "code",
   "execution_count": null,
   "metadata": {},
   "outputs": [
    {
     "name": "stdout",
     "output_type": "stream",
     "text": [
      "                               WORD                               LABEL\n",
      "b'                               what' b'                                  O'\n",
      "b'                           aircraft' b'                                  O'\n",
      "b'                                 is' b'                                  O'\n",
      "b'                               used' b'                                  O'\n",
      "b'                                 on' b'                                  O'\n",
      "b'                              delta' b'                     B-airline_name'\n",
      "b'                             flight' b'                                  O'\n",
      "b'               DIGITDIGITDIGITDIGIT' b'                    B-flight_number'\n",
      "b'                               from' b'                                  O'\n",
      "b'                             kansas' b'                B-fromloc.city_name'\n",
      "b'                               city' b'                I-fromloc.city_name'\n",
      "b'                                 to' b'                                  O'\n",
      "b'                               salt' b'                  B-toloc.city_name'\n",
      "b'                               lake' b'                  I-toloc.city_name'\n",
      "b'                               city' b'                  I-toloc.city_name'\n",
      "\n",
      "************************************************************\n",
      "\n",
      "> <ipython-input-97-9fb53a9e30f6>(12)<module>()\n",
      "-> for sw, se, sl in zip(eval(e+'_x'), eval(e+'_ne'), eval(e+'_label')):\n"
     ]
    }
   ],
   "source": [
    "import pdb\n",
    "\n",
    "idx2w  = dict((v,k) for k,v in w2idx.items())\n",
    "idx2ne = dict((v,k) for k,v in ne2idx.items())\n",
    "idx2la = dict((v,k) for k,v in labels2idx.items())\n",
    "\n",
    "test_x,  test_ne,  test_label  = test\n",
    "train_x, train_ne, train_label = train\n",
    "wlength = 35\n",
    "\n",
    "for e in ['train','test']:\n",
    "    for sw, se, sl in zip(eval(e+'_x'), eval(e+'_ne'), eval(e+'_label')):\n",
    "        print ('WORD'.rjust(wlength), 'LABEL'.rjust(wlength))\n",
    "        for wx, la in zip(sw, sl): print (idx2w[wx].rjust(wlength), idx2la[la].rjust(wlength))\n",
    "        print ('\\n'+'**'*30+'\\n')\n",
    "        pdb.set_trace()"
   ]
  },
  {
   "cell_type": "code",
   "execution_count": 65,
   "metadata": {},
   "outputs": [],
   "source": [
    "import sys, os\n",
    "\n",
    "from mitie import *\n",
    "trainer = ner_trainer(\"../MITIE-models/english/total_word_feature_extractor.dat\")"
   ]
  }
 ],
 "metadata": {
  "kernelspec": {
   "display_name": "Python 3",
   "language": "python",
   "name": "python3"
  },
  "language_info": {
   "codemirror_mode": {
    "name": "ipython",
    "version": 3
   },
   "file_extension": ".py",
   "mimetype": "text/x-python",
   "name": "python",
   "nbconvert_exporter": "python",
   "pygments_lexer": "ipython3",
   "version": "3.5.1"
  }
 },
 "nbformat": 4,
 "nbformat_minor": 2
}
